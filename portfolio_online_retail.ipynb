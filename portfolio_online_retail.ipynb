{
  "nbformat": 4,
  "nbformat_minor": 0,
  "metadata": {
    "colab": {
      "provenance": [],
      "authorship_tag": "ABX9TyM/gvTWFNAZApgZJojAwyWr",
      "include_colab_link": true
    },
    "kernelspec": {
      "name": "python3",
      "display_name": "Python 3"
    },
    "language_info": {
      "name": "python"
    }
  },
  "cells": [
    {
      "cell_type": "markdown",
      "metadata": {
        "id": "view-in-github",
        "colab_type": "text"
      },
      "source": [
        "<a href=\"https://colab.research.google.com/github/maryjazi/portfolio-online-retail/blob/main/portfolio_online_retail.ipynb\" target=\"_parent\"><img src=\"https://colab.research.google.com/assets/colab-badge.svg\" alt=\"Open In Colab\"/></a>"
      ]
    },
    {
      "cell_type": "code",
      "execution_count": null,
      "metadata": {
        "id": "UJQaPZGJCoiE"
      },
      "outputs": [],
      "source": [
        "import numpy as np\n",
        "import pandas as pd\n",
        "import seaborn as sns\n",
        "\n",
        "\n"
      ]
    },
    {
      "cell_type": "code",
      "source": [
        "from google.colab import drive\n",
        "drive.mount('/content/drive')"
      ],
      "metadata": {
        "colab": {
          "base_uri": "https://localhost:8080/"
        },
        "id": "abbQftOHF5Xi",
        "outputId": "adc8ceca-ddb1-4782-e2b7-7e42d4a8e0ce"
      },
      "execution_count": null,
      "outputs": [
        {
          "output_type": "stream",
          "name": "stdout",
          "text": [
            "Mounted at /content/drive\n"
          ]
        }
      ]
    },
    {
      "cell_type": "code",
      "source": [
        "data = pd.read_csv('/content/sample_data/Untitled Folder/online_retail.csv')"
      ],
      "metadata": {
        "id": "sgXiccQLC3f3"
      },
      "execution_count": null,
      "outputs": []
    },
    {
      "cell_type": "code",
      "source": [
        "cm = sns.light_palette(\"green\",as_cmap=True)"
      ],
      "metadata": {
        "id": "4ryc1MW6G1L7"
      },
      "execution_count": null,
      "outputs": []
    },
    {
      "cell_type": "code",
      "source": [
        "data.info()"
      ],
      "metadata": {
        "colab": {
          "base_uri": "https://localhost:8080/"
        },
        "id": "SRXbyw11HlUr",
        "outputId": "b1c26719-a072-4009-ee91-789151260670"
      },
      "execution_count": null,
      "outputs": [
        {
          "output_type": "stream",
          "name": "stdout",
          "text": [
            "<class 'pandas.core.frame.DataFrame'>\n",
            "RangeIndex: 234869 entries, 0 to 234868\n",
            "Data columns (total 8 columns):\n",
            " #   Column       Non-Null Count   Dtype  \n",
            "---  ------       --------------   -----  \n",
            " 0   InvoiceNo    234869 non-null  object \n",
            " 1   StockCode    234869 non-null  object \n",
            " 2   Description  233977 non-null  object \n",
            " 3   Quantity     234869 non-null  int64  \n",
            " 4   InvoiceDate  234869 non-null  object \n",
            " 5   UnitPrice    234868 non-null  float64\n",
            " 6   CustomerID   168853 non-null  float64\n",
            " 7   Country      234868 non-null  object \n",
            "dtypes: float64(2), int64(1), object(5)\n",
            "memory usage: 14.3+ MB\n"
          ]
        }
      ]
    }
  ]
}